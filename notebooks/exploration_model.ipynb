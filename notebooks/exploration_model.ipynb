{
 "cells": [
  {
   "cell_type": "code",
   "execution_count": 4,
   "id": "6ce997ae",
   "metadata": {},
   "outputs": [
    {
     "name": "stdout",
     "output_type": "stream",
     "text": [
      "    planet  radius_km  mass_10^24kg  orbital_period_days  temperature_avg_c\n",
      "0  Mercury     2439.7         0.330                 88.0                167\n",
      "1    Venus     6051.8         4.870                224.7                464\n",
      "2    Earth     6371.0         5.970                365.2                 15\n",
      "3     Mars     3389.5         0.642                687.0                -65\n",
      "4  Jupiter    69911.0      1898.000               4331.0               -110\n",
      "5   Saturn    58232.0       568.000              10747.0               -140\n",
      "6   Uranus    25362.0        86.800              30589.0               -195\n",
      "7  Neptune    24622.0       102.000              59800.0               -200\n"
     ]
    }
   ],
   "source": [
    "import pandas as pd\n",
    "\n",
    "planets_df = pd.read_csv('../dataset/planets.csv')\n",
    "\n",
    "print(planets_df.head(10))"
   ]
  },
  {
   "cell_type": "code",
   "execution_count": null,
   "id": "0c7f0d13",
   "metadata": {},
   "outputs": [],
   "source": [
    "import matplotlib.pyplot as plt\n",
    "import seaborn as sns\n",
    "\n"
   ]
  }
 ],
 "metadata": {
  "kernelspec": {
   "display_name": "venv",
   "language": "python",
   "name": "python3"
  },
  "language_info": {
   "codemirror_mode": {
    "name": "ipython",
    "version": 3
   },
   "file_extension": ".py",
   "mimetype": "text/x-python",
   "name": "python",
   "nbconvert_exporter": "python",
   "pygments_lexer": "ipython3",
   "version": "3.11.9"
  }
 },
 "nbformat": 4,
 "nbformat_minor": 5
}
